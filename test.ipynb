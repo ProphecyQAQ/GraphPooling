{
 "cells": [
  {
   "cell_type": "code",
   "execution_count": 1,
   "metadata": {},
   "outputs": [],
   "source": [
    "import torch\n",
    "from torch.utils.data import DataLoader\n",
    "import torch.nn.functional as F\n",
    "\n",
    "from torch_geometric.datasets import TUDataset\n",
    "from torch_geometric.utils import to_dense_adj\n",
    "from src.model import DiffPool\n",
    "\n",
    "import random\n",
    "import numpy as np"
   ]
  },
  {
   "cell_type": "code",
   "execution_count": 2,
   "metadata": {},
   "outputs": [],
   "source": [
    "data = TUDataset(\"datasets/PROTEINS.\", name = \"PROTEINS\")"
   ]
  },
  {
   "cell_type": "code",
   "execution_count": 3,
   "metadata": {},
   "outputs": [],
   "source": [
    "max_num_nodes = 0\n",
    "for g in data:\n",
    "    max_num_nodes = max(max_num_nodes, g.x.shape[0])"
   ]
  },
  {
   "cell_type": "code",
   "execution_count": 4,
   "metadata": {},
   "outputs": [],
   "source": [
    "f = torch.zeros((max_num_nodes, 3))\n",
    "f[:g.x.shape[0], :g.x.shape[1]] = g.x"
   ]
  },
  {
   "cell_type": "code",
   "execution_count": 5,
   "metadata": {},
   "outputs": [],
   "source": [
    "class GraphDataset(torch.utils.data.Dataset):\n",
    "    def __init__(self, data, max_num_nodes = None) -> None:\n",
    "        super().__init__()\n",
    "        self.adj_list        = []\n",
    "        self.x_list          = []\n",
    "        self.y_list          = []\n",
    "        self.edge_index_list = []\n",
    "        self.max_num_nodes = max_num_nodes\n",
    "        self.prepareData(data, max_num_nodes)\n",
    "    \n",
    "    def prepareData(self, data, max_num_nodes = None):\n",
    "        for g in data:\n",
    "            f = torch.zeros((self.max_num_nodes, g.x.shape[1]))\n",
    "            f[:g.x.shape[0], :g.x.shape[1]] = g.x\n",
    "            self.x_list.append(f)\n",
    "            self.y_list.append(g.y)\n",
    "            self.edge_index_list.append(g.edge_index)\n",
    "            adj = to_dense_adj(g.edge_index)\n",
    "            self.adj_list.append(adj[0])\n",
    "\n",
    "    def __len__(self):\n",
    "        return len(self.adj_list)\n",
    "\n",
    "    def __getitem__(self, idx):\n",
    "        adj = self.adj_list[idx]\n",
    "        num_nodes = adj.shape[0]\n",
    "        adj_padded = torch.zeros((self.max_num_nodes, self.max_num_nodes))\n",
    "        adj_padded[:num_nodes, :num_nodes] = adj\n",
    "        #adj_padded = np.zeros((self.max_num_nodes, self.max_num_nodes))\n",
    "        #adj_padded[:num_nodes, :num_nodes] = adj\n",
    "\n",
    "        return {'adj':adj_padded,\n",
    "                'x':self.x_list[idx],\n",
    "                'y':self.y_list[idx],\n",
    "                'num_nodes': num_nodes \n",
    "                }\n"
   ]
  },
  {
   "cell_type": "code",
   "execution_count": 6,
   "metadata": {},
   "outputs": [],
   "source": [
    "data = data.shuffle()"
   ]
  },
  {
   "cell_type": "code",
   "execution_count": 7,
   "metadata": {},
   "outputs": [],
   "source": [
    "train_data = data[:int(len(data)*0.8)]\n",
    "test_data  = data[int(len(data)*0.8):] "
   ]
  },
  {
   "cell_type": "code",
   "execution_count": 8,
   "metadata": {},
   "outputs": [],
   "source": [
    "train_dataset = GraphDataset(train_data, max_num_nodes)\n",
    "train_loader  = DataLoader(train_dataset, batch_size = 2)\n",
    "\n",
    "test_dataset  = GraphDataset(test_data, max_num_nodes)\n",
    "test_loader   = DataLoader(test_dataset, batch_size = 2)"
   ]
  },
  {
   "cell_type": "code",
   "execution_count": 9,
   "metadata": {},
   "outputs": [],
   "source": [
    "device = torch.device(\"cuda:0\")\n",
    "model = DiffPool(None, number_of_labels= 3).to(device)\n",
    "optimizer = torch.optim.Adam(model.parameters() ,lr = 1e-4)"
   ]
  },
  {
   "cell_type": "code",
   "execution_count": 10,
   "metadata": {},
   "outputs": [
    {
     "name": "stdout",
     "output_type": "stream",
     "text": [
      "tensor(0.3273, device='cuda:0', grad_fn=<DivBackward0>)\n",
      "tensor(0.2938, device='cuda:0', grad_fn=<DivBackward0>)\n",
      "tensor(0.2893, device='cuda:0', grad_fn=<DivBackward0>)\n",
      "tensor(0.2864, device='cuda:0', grad_fn=<DivBackward0>)\n",
      "tensor(0.2849, device='cuda:0', grad_fn=<DivBackward0>)\n",
      "tensor(0.2838, device='cuda:0', grad_fn=<DivBackward0>)\n",
      "tensor(0.2830, device='cuda:0', grad_fn=<DivBackward0>)\n",
      "tensor(0.2824, device='cuda:0', grad_fn=<DivBackward0>)\n",
      "tensor(0.2819, device='cuda:0', grad_fn=<DivBackward0>)\n",
      "tensor(0.2816, device='cuda:0', grad_fn=<DivBackward0>)\n",
      "tensor(0.2813, device='cuda:0', grad_fn=<DivBackward0>)\n",
      "tensor(0.2810, device='cuda:0', grad_fn=<DivBackward0>)\n",
      "tensor(0.2805, device='cuda:0', grad_fn=<DivBackward0>)\n",
      "tensor(0.2809, device='cuda:0', grad_fn=<DivBackward0>)\n",
      "tensor(0.2802, device='cuda:0', grad_fn=<DivBackward0>)\n",
      "tensor(0.2802, device='cuda:0', grad_fn=<DivBackward0>)\n",
      "tensor(0.2803, device='cuda:0', grad_fn=<DivBackward0>)\n",
      "tensor(0.2803, device='cuda:0', grad_fn=<DivBackward0>)\n",
      "tensor(0.2805, device='cuda:0', grad_fn=<DivBackward0>)\n",
      "tensor(0.2806, device='cuda:0', grad_fn=<DivBackward0>)\n",
      "tensor(0.2805, device='cuda:0', grad_fn=<DivBackward0>)\n",
      "tensor(0.2799, device='cuda:0', grad_fn=<DivBackward0>)\n",
      "tensor(0.2801, device='cuda:0', grad_fn=<DivBackward0>)\n",
      "tensor(0.2797, device='cuda:0', grad_fn=<DivBackward0>)\n",
      "tensor(0.2796, device='cuda:0', grad_fn=<DivBackward0>)\n",
      "tensor(0.2793, device='cuda:0', grad_fn=<DivBackward0>)\n",
      "tensor(0.2792, device='cuda:0', grad_fn=<DivBackward0>)\n",
      "tensor(0.2789, device='cuda:0', grad_fn=<DivBackward0>)\n",
      "tensor(0.2784, device='cuda:0', grad_fn=<DivBackward0>)\n",
      "tensor(0.2785, device='cuda:0', grad_fn=<DivBackward0>)\n",
      "tensor(0.2784, device='cuda:0', grad_fn=<DivBackward0>)\n",
      "tensor(0.2780, device='cuda:0', grad_fn=<DivBackward0>)\n",
      "tensor(0.2779, device='cuda:0', grad_fn=<DivBackward0>)\n",
      "tensor(0.2779, device='cuda:0', grad_fn=<DivBackward0>)\n",
      "tensor(0.2777, device='cuda:0', grad_fn=<DivBackward0>)\n",
      "tensor(0.2777, device='cuda:0', grad_fn=<DivBackward0>)\n",
      "tensor(0.2774, device='cuda:0', grad_fn=<DivBackward0>)\n",
      "tensor(0.2775, device='cuda:0', grad_fn=<DivBackward0>)\n",
      "tensor(0.2773, device='cuda:0', grad_fn=<DivBackward0>)\n",
      "tensor(0.2774, device='cuda:0', grad_fn=<DivBackward0>)\n",
      "tensor(0.2774, device='cuda:0', grad_fn=<DivBackward0>)\n",
      "tensor(0.2776, device='cuda:0', grad_fn=<DivBackward0>)\n",
      "tensor(0.2775, device='cuda:0', grad_fn=<DivBackward0>)\n",
      "tensor(0.2775, device='cuda:0', grad_fn=<DivBackward0>)\n",
      "tensor(0.2771, device='cuda:0', grad_fn=<DivBackward0>)\n",
      "tensor(0.2770, device='cuda:0', grad_fn=<DivBackward0>)\n",
      "tensor(0.2768, device='cuda:0', grad_fn=<DivBackward0>)\n",
      "tensor(0.2765, device='cuda:0', grad_fn=<DivBackward0>)\n",
      "tensor(0.2762, device='cuda:0', grad_fn=<DivBackward0>)\n",
      "tensor(0.2758, device='cuda:0', grad_fn=<DivBackward0>)\n",
      "tensor(0.2755, device='cuda:0', grad_fn=<DivBackward0>)\n",
      "tensor(0.2753, device='cuda:0', grad_fn=<DivBackward0>)\n",
      "tensor(0.2752, device='cuda:0', grad_fn=<DivBackward0>)\n",
      "tensor(0.2751, device='cuda:0', grad_fn=<DivBackward0>)\n",
      "tensor(0.2749, device='cuda:0', grad_fn=<DivBackward0>)\n",
      "tensor(0.2753, device='cuda:0', grad_fn=<DivBackward0>)\n",
      "tensor(0.2756, device='cuda:0', grad_fn=<DivBackward0>)\n",
      "tensor(0.2754, device='cuda:0', grad_fn=<DivBackward0>)\n",
      "tensor(0.2752, device='cuda:0', grad_fn=<DivBackward0>)\n",
      "tensor(0.2751, device='cuda:0', grad_fn=<DivBackward0>)\n",
      "tensor(0.2751, device='cuda:0', grad_fn=<DivBackward0>)\n",
      "tensor(0.2751, device='cuda:0', grad_fn=<DivBackward0>)\n",
      "tensor(0.2751, device='cuda:0', grad_fn=<DivBackward0>)\n",
      "tensor(0.2750, device='cuda:0', grad_fn=<DivBackward0>)\n",
      "tensor(0.2750, device='cuda:0', grad_fn=<DivBackward0>)\n",
      "tensor(0.2749, device='cuda:0', grad_fn=<DivBackward0>)\n",
      "tensor(0.2749, device='cuda:0', grad_fn=<DivBackward0>)\n",
      "tensor(0.2748, device='cuda:0', grad_fn=<DivBackward0>)\n",
      "tensor(0.2748, device='cuda:0', grad_fn=<DivBackward0>)\n",
      "tensor(0.2747, device='cuda:0', grad_fn=<DivBackward0>)\n",
      "tensor(0.2747, device='cuda:0', grad_fn=<DivBackward0>)\n",
      "tensor(0.2746, device='cuda:0', grad_fn=<DivBackward0>)\n",
      "tensor(0.2746, device='cuda:0', grad_fn=<DivBackward0>)\n",
      "tensor(0.2746, device='cuda:0', grad_fn=<DivBackward0>)\n",
      "tensor(0.2745, device='cuda:0', grad_fn=<DivBackward0>)\n",
      "tensor(0.2745, device='cuda:0', grad_fn=<DivBackward0>)\n",
      "tensor(0.2745, device='cuda:0', grad_fn=<DivBackward0>)\n",
      "tensor(0.2744, device='cuda:0', grad_fn=<DivBackward0>)\n",
      "tensor(0.2744, device='cuda:0', grad_fn=<DivBackward0>)\n",
      "tensor(0.2744, device='cuda:0', grad_fn=<DivBackward0>)\n",
      "tensor(0.2743, device='cuda:0', grad_fn=<DivBackward0>)\n",
      "tensor(0.2743, device='cuda:0', grad_fn=<DivBackward0>)\n",
      "tensor(0.2743, device='cuda:0', grad_fn=<DivBackward0>)\n",
      "tensor(0.3531, device='cuda:0', grad_fn=<DivBackward0>)\n",
      "tensor(0.3578, device='cuda:0', grad_fn=<DivBackward0>)\n",
      "tensor(0.3578, device='cuda:0', grad_fn=<DivBackward0>)\n",
      "tensor(0.3578, device='cuda:0', grad_fn=<DivBackward0>)\n",
      "tensor(0.3578, device='cuda:0', grad_fn=<DivBackward0>)\n",
      "tensor(0.3578, device='cuda:0', grad_fn=<DivBackward0>)\n",
      "tensor(0.3578, device='cuda:0', grad_fn=<DivBackward0>)\n",
      "tensor(0.3578, device='cuda:0', grad_fn=<DivBackward0>)\n",
      "tensor(0.3578, device='cuda:0', grad_fn=<DivBackward0>)\n",
      "tensor(0.3578, device='cuda:0', grad_fn=<DivBackward0>)\n",
      "tensor(0.3578, device='cuda:0', grad_fn=<DivBackward0>)\n",
      "tensor(0.3578, device='cuda:0', grad_fn=<DivBackward0>)\n",
      "tensor(0.3578, device='cuda:0', grad_fn=<DivBackward0>)\n",
      "tensor(0.3578, device='cuda:0', grad_fn=<DivBackward0>)\n",
      "tensor(0.3578, device='cuda:0', grad_fn=<DivBackward0>)\n",
      "tensor(0.3578, device='cuda:0', grad_fn=<DivBackward0>)\n",
      "tensor(0.3578, device='cuda:0', grad_fn=<DivBackward0>)\n"
     ]
    }
   ],
   "source": [
    "model.train()\n",
    "for epoch in range(100):\n",
    "    loss_sum = 0\n",
    "    total = 0\n",
    "    for idx, graph in enumerate(train_loader):\n",
    "        optimizer.zero_grad()\n",
    "\n",
    "        x = graph['x'].to(device)\n",
    "        adj = graph['adj'].to(device)\n",
    "        y = graph['y']\n",
    "\n",
    "        y_pred, loss_lp, loss_e = model(x, adj)\n",
    "        loss = F.cross_entropy(y_pred.cpu(), y.view(-1), reduction='mean') + loss_lp+loss_e\n",
    "        loss.backward()\n",
    "        optimizer.step()\n",
    "        loss_sum += loss\n",
    "        total += len(y.view(-1))\n",
    "    print(loss_sum/total)\n",
    "    loss_sum = 0\n",
    "    total = 0"
   ]
  },
  {
   "cell_type": "code",
   "execution_count": 12,
   "metadata": {},
   "outputs": [
    {
     "name": "stdout",
     "output_type": "stream",
     "text": [
      "0.57847536\n"
     ]
    }
   ],
   "source": [
    "model.eval()\n",
    "correct = 0\n",
    "total = 0\n",
    "for idx, graph in enumerate(test_loader):\n",
    "    x = graph['x'].to(device)\n",
    "    adj = graph['adj'].to(device)\n",
    "    y = graph['y']\n",
    "\n",
    "    y_pred, _, _ = model(x, adj)\n",
    "    prediction = torch.argmax(y_pred, 1).cpu()\n",
    "    correct += (prediction == y.view(-1)).sum()\n",
    "    total += len(y.view(-1)) \n",
    "print((correct/total).detach().data.numpy())"
   ]
  }
 ],
 "metadata": {
  "kernelspec": {
   "display_name": "base",
   "language": "python",
   "name": "python3"
  },
  "language_info": {
   "codemirror_mode": {
    "name": "ipython",
    "version": 3
   },
   "file_extension": ".py",
   "mimetype": "text/x-python",
   "name": "python",
   "nbconvert_exporter": "python",
   "pygments_lexer": "ipython3",
   "version": "3.9.7 (default, Sep 16 2021, 16:59:28) [MSC v.1916 64 bit (AMD64)]"
  },
  "orig_nbformat": 4,
  "vscode": {
   "interpreter": {
    "hash": "e42634819b8c191a5d07eaf23810ff32516dd8d3875f28ec3e488928fbd3c187"
   }
  }
 },
 "nbformat": 4,
 "nbformat_minor": 2
}
