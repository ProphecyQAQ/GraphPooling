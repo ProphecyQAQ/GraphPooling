{
 "cells": [
  {
   "cell_type": "code",
   "execution_count": 3,
   "metadata": {},
   "outputs": [],
   "source": [
    "import torch\n",
    "from torch.utils.data import DataLoader\n",
    "import torch.nn.functional as F\n",
    "\n",
    "from torch_geometric.datasets import TUDataset\n",
    "from torch_geometric.utils import to_dense_adj, degree\n",
    "from torch_geometric.transforms import OneHotDegree\n",
    "\n",
    "import random\n",
    "import numpy as np"
   ]
  },
  {
   "cell_type": "code",
   "execution_count": 8,
   "metadata": {},
   "outputs": [
    {
     "name": "stdout",
     "output_type": "stream",
     "text": [
      "\n",
      "Logits\n",
      "tensor([[[ 1.2134, -0.0457,  0.1644],\n",
      "         [ 2.0272, -0.3087,  2.3172],\n",
      "         [ 1.1514, -2.5599, -0.8436],\n",
      "         [-0.1408, -1.5938,  0.3637],\n",
      "         [ 1.9940, -0.6176,  1.8082]],\n",
      "\n",
      "        [[-0.1017,  0.0801,  2.0556],\n",
      "         [-2.2154, -0.1930, -0.3883],\n",
      "         [ 0.7791, -1.0272,  0.1358],\n",
      "         [-0.6180,  1.4808, -0.2632],\n",
      "         [ 0.4972,  0.7544, -0.7078]]], device='cuda:0')\n",
      "\n",
      "Sparsemax probabilities\n",
      "tensor([[[1.0000, 0.0000, 0.0000],\n",
      "         [0.3550, 0.0000, 0.6450],\n",
      "         [1.0000, 0.0000, 0.0000],\n",
      "         [0.2478, 0.0000, 0.7522],\n",
      "         [0.5929, 0.0000, 0.4071]],\n",
      "\n",
      "        [[0.0000, 0.0000, 1.0000],\n",
      "         [0.0000, 0.5976, 0.4024],\n",
      "         [0.8216, 0.0000, 0.1784],\n",
      "         [0.0000, 1.0000, 0.0000],\n",
      "         [0.3714, 0.6286, 0.0000]]], device='cuda:0')\n"
     ]
    }
   ],
   "source": [
    "import torch\n",
    "from sparsemax import Sparsemax\n",
    "\n",
    "sparsemax = Sparsemax(dim=2)\n",
    "softmax = torch.nn.Softmax(dim=1)\n",
    "\n",
    "logits = torch.randn(2, 5,3).cuda()\n",
    "print(\"\\nLogits\")\n",
    "print(logits)\n",
    "\n",
    "sparsemax_probs = sparsemax(logits)\n",
    "print(\"\\nSparsemax probabilities\")\n",
    "print(sparsemax_probs)"
   ]
  },
  {
   "cell_type": "code",
   "execution_count": 7,
   "metadata": {},
   "outputs": [],
   "source": [
    "data = TUDataset(\"./datasets/COLLAB.\", name = \"COLLAB\", use_node_attr=True, use_edge_attr=True)"
   ]
  },
  {
   "cell_type": "code",
   "execution_count": 12,
   "metadata": {},
   "outputs": [],
   "source": []
  },
  {
   "cell_type": "code",
   "execution_count": 17,
   "metadata": {},
   "outputs": [
    {
     "data": {
      "text/plain": [
       "492"
      ]
     },
     "execution_count": 17,
     "metadata": {},
     "output_type": "execute_result"
    }
   ],
   "source": [
    "max_num_nodes = 0\n",
    "for g in data:\n",
    "    max_num_nodes = max(max_num_nodes, g.x.shape[0])\n",
    "max_num_nodes"
   ]
  },
  {
   "cell_type": "code",
   "execution_count": 20,
   "metadata": {},
   "outputs": [
    {
     "data": {
      "text/plain": [
       "Data(edge_index=[2, 1572], y=[1], num_nodes=44, x=[44, 492])"
      ]
     },
     "execution_count": 20,
     "metadata": {},
     "output_type": "execute_result"
    }
   ],
   "source": [
    "data[1]"
   ]
  },
  {
   "cell_type": "code",
   "execution_count": 5,
   "metadata": {},
   "outputs": [],
   "source": [
    "class GraphDataset(torch.utils.data.Dataset):\n",
    "    def __init__(self, data, max_num_nodes = None) -> None:\n",
    "        super().__init__()\n",
    "        self.adj_list        = []\n",
    "        self.x_list          = []\n",
    "        self.y_list          = []\n",
    "        self.edge_index_list = []\n",
    "        self.max_num_nodes = max_num_nodes\n",
    "        self.prepareData(data, max_num_nodes)\n",
    "    \n",
    "    def prepareData(self, data, max_num_nodes = None):\n",
    "        for g in data:\n",
    "            f = torch.zeros((self.max_num_nodes, g.x.shape[1]))\n",
    "            f[:g.x.shape[0], :g.x.shape[1]] = g.x\n",
    "            self.x_list.append(f)\n",
    "            self.y_list.append(g.y)\n",
    "            self.edge_index_list.append(g.edge_index)\n",
    "            adj = to_dense_adj(g.edge_index)\n",
    "            self.adj_list.append(adj[0])\n",
    "\n",
    "    def __len__(self):\n",
    "        return len(self.adj_list)\n",
    "\n",
    "    def __getitem__(self, idx):\n",
    "        adj = self.adj_list[idx]\n",
    "        num_nodes = adj.shape[0]\n",
    "        adj_padded = torch.zeros((self.max_num_nodes, self.max_num_nodes))\n",
    "        adj_padded[:num_nodes, :num_nodes] = adj\n",
    "        #adj_padded = np.zeros((self.max_num_nodes, self.max_num_nodes))\n",
    "        #adj_padded[:num_nodes, :num_nodes] = adj\n",
    "\n",
    "        return {'adj':adj_padded,\n",
    "                'x':self.x_list[idx],\n",
    "                'y':self.y_list[idx],\n",
    "                'num_nodes': num_nodes \n",
    "                }\n"
   ]
  },
  {
   "cell_type": "code",
   "execution_count": 6,
   "metadata": {},
   "outputs": [],
   "source": [
    "data = data.shuffle()"
   ]
  },
  {
   "cell_type": "code",
   "execution_count": 7,
   "metadata": {},
   "outputs": [],
   "source": [
    "train_data = data[:int(len(data)*0.8)]\n",
    "test_data  = data[int(len(data)*0.8):] "
   ]
  },
  {
   "cell_type": "code",
   "execution_count": 8,
   "metadata": {},
   "outputs": [],
   "source": [
    "train_dataset = GraphDataset(train_data, max_num_nodes)\n",
    "train_loader  = DataLoader(train_dataset, batch_size = 32)\n",
    "\n",
    "test_dataset  = GraphDataset(test_data, max_num_nodes)\n",
    "test_loader   = DataLoader(test_dataset, batch_size = 32)"
   ]
  },
  {
   "cell_type": "code",
   "execution_count": 21,
   "metadata": {},
   "outputs": [],
   "source": [
    "device = torch.device(\"cuda:0\")\n",
    "model = DiffPool(None, number_of_labels= 4).to(device)\n",
    "optimizer = torch.optim.Adam(model.parameters() ,lr = 1e-4)"
   ]
  },
  {
   "cell_type": "code",
   "execution_count": null,
   "metadata": {},
   "outputs": [],
   "source": [
    "model.train()\n",
    "for epoch in range(150):\n",
    "    loss_sum = 0\n",
    "    total = 0\n",
    "    for idx, graph in enumerate(train_loader):\n",
    "        optimizer.zero_grad()\n",
    "\n",
    "        x = graph['x'].to(device)\n",
    "        adj = graph['adj'].to(device)\n",
    "        y = graph['y']\n",
    "\n",
    "        y_pred, loss_lp, loss_e = model(x, adj)\n",
    "        loss = F.cross_entropy(y_pred.cpu(), y.view(-1), reduction='mean') + loss_lp+loss_e\n",
    "        loss.backward()\n",
    "        optimizer.step()\n",
    "        loss_sum += loss\n",
    "    print(loss_sum/len(train_data))\n",
    "    loss_sum = 0\n",
    "    total = 0"
   ]
  },
  {
   "cell_type": "code",
   "execution_count": 23,
   "metadata": {},
   "outputs": [
    {
     "name": "stdout",
     "output_type": "stream",
     "text": [
      "0.75784755\n"
     ]
    }
   ],
   "source": [
    "model.eval()\n",
    "correct = 0\n",
    "total = 0\n",
    "for idx, graph in enumerate(test_loader):\n",
    "    x = graph['x'].to(device)\n",
    "    adj = graph['adj'].to(device)\n",
    "    y = graph['y']\n",
    "\n",
    "    y_pred, _, _ = model(x, adj)\n",
    "    prediction = torch.argmax(y_pred, 1).cpu()\n",
    "    correct += (prediction == y.view(-1)).sum()\n",
    "    total += len(y.view(-1)) \n",
    "print((correct/total).detach().data.numpy())"
   ]
  }
 ],
 "metadata": {
  "kernelspec": {
   "display_name": "graphsim",
   "language": "python",
   "name": "python3"
  },
  "language_info": {
   "codemirror_mode": {
    "name": "ipython",
    "version": 3
   },
   "file_extension": ".py",
   "mimetype": "text/x-python",
   "name": "python",
   "nbconvert_exporter": "python",
   "pygments_lexer": "ipython3",
   "version": "3.9.15"
  },
  "orig_nbformat": 4,
  "vscode": {
   "interpreter": {
    "hash": "931134c0f7273f5f8c6c7b8e6e9e601533b834c4b376afaa379be8bd9e441fb8"
   }
  }
 },
 "nbformat": 4,
 "nbformat_minor": 2
}
